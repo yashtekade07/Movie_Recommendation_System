{
 "cells":[
  {
   "cell_type":"code",
   "source":[
    "import numpy as np\n",
    "import pandas as pd\n",
    "import ast "
   ],
   "execution_count":3,
   "outputs":[
    
   ],
   "metadata":{
    "datalore":{
     "node_id":"Es7tHkqkK2oOzlBtxHH8HI",
     "type":"CODE",
     "hide_input_from_viewers":true,
     "hide_output_from_viewers":true
    }
   }
  },
  {
   "cell_type":"code",
   "source":[
    "movies = pd.read_csv('tmdb_5000_movies.csv')\n",
    "credit = pd.read_csv('tmdb_5000_credits.csv')"
   ],
   "execution_count":4,
   "outputs":[
    
   ],
   "metadata":{
    "datalore":{
     "node_id":"ZV5KtJ0RyxI9OHa0cANH1v",
     "type":"CODE",
     "hide_input_from_viewers":true,
     "hide_output_from_viewers":true
    }
   }
  },
  {
   "cell_type":"code",
   "source":[
    "movies.head()"
   ],
   "execution_count":5,
   "outputs":[
    {
     "data":{
      "text\/html":[
       "<div>\n",
       "<style scoped>\n",
       "    .dataframe tbody tr th:only-of-type {\n",
       "        vertical-align: middle;\n",
       "    }\n",
       "\n",
       "    .dataframe tbody tr th {\n",
       "        vertical-align: top;\n",
       "    }\n",
       "\n",
       "    .dataframe thead th {\n",
       "        text-align: right;\n",
       "    }\n",
       "<\/style>\n",
       "<table border=\"1\" class=\"dataframe\">\n",
       "  <thead>\n",
       "    <tr style=\"text-align: right;\">\n",
       "      <th><\/th>\n",
       "      <th>budget<\/th>\n",
       "      <th>genres<\/th>\n",
       "      <th>homepage<\/th>\n",
       "      <th>id<\/th>\n",
       "      <th>keywords<\/th>\n",
       "      <th>original_language<\/th>\n",
       "      <th>original_title<\/th>\n",
       "      <th>overview<\/th>\n",
       "      <th>popularity<\/th>\n",
       "      <th>production_companies<\/th>\n",
       "      <th>production_countries<\/th>\n",
       "      <th>release_date<\/th>\n",
       "      <th>revenue<\/th>\n",
       "      <th>runtime<\/th>\n",
       "      <th>spoken_languages<\/th>\n",
       "      <th>status<\/th>\n",
       "      <th>tagline<\/th>\n",
       "      <th>title<\/th>\n",
       "      <th>vote_average<\/th>\n",
       "      <th>vote_count<\/th>\n",
       "    <\/tr>\n",
       "  <\/thead>\n",
       "  <tbody>\n",
       "    <tr>\n",
       "      <th>0<\/th>\n",
       "      <td>237000000<\/td>\n",
       "      <td>[{\"id\": 28, \"name\": \"Action\"}, {\"id\": 12, \"nam...<\/td>\n",
       "      <td>http:\/\/www.avatarmovie.com\/<\/td>\n",
       "      <td>19995<\/td>\n",
       "      <td>[{\"id\": 1463, \"name\": \"culture clash\"}, {\"id\":...<\/td>\n",
       "      <td>en<\/td>\n",
       "      <td>Avatar<\/td>\n",
       "      <td>In the 22nd century, a paraplegic Marine is di...<\/td>\n",
       "      <td>150.437577<\/td>\n",
       "      <td>[{\"name\": \"Ingenious Film Partners\", \"id\": 289...<\/td>\n",
       "      <td>[{\"iso_3166_1\": \"US\", \"name\": \"United States o...<\/td>\n",
       "      <td>2009-12-10<\/td>\n",
       "      <td>2787965087<\/td>\n",
       "      <td>162.0<\/td>\n",
       "      <td>[{\"iso_639_1\": \"en\", \"name\": \"English\"}, {\"iso...<\/td>\n",
       "      <td>Released<\/td>\n",
       "      <td>Enter the World of Pandora.<\/td>\n",
       "      <td>Avatar<\/td>\n",
       "      <td>7.2<\/td>\n",
       "      <td>11800<\/td>\n",
       "    <\/tr>\n",
       "    <tr>\n",
       "      <th>1<\/th>\n",
       "      <td>300000000<\/td>\n",
       "      <td>[{\"id\": 12, \"name\": \"Adventure\"}, {\"id\": 14, \"...<\/td>\n",
       "      <td>http:\/\/disney.go.com\/disneypictures\/pirates\/<\/td>\n",
       "      <td>285<\/td>\n",
       "      <td>[{\"id\": 270, \"name\": \"ocean\"}, {\"id\": 726, \"na...<\/td>\n",
       "      <td>en<\/td>\n",
       "      <td>Pirates of the Caribbean: At World's End<\/td>\n",
       "      <td>Captain Barbossa, long believed to be dead, ha...<\/td>\n",
       "      <td>139.082615<\/td>\n",
       "      <td>[{\"name\": \"Walt Disney Pictures\", \"id\": 2}, {\"...<\/td>\n",
       "      <td>[{\"iso_3166_1\": \"US\", \"name\": \"United States o...<\/td>\n",
       "      <td>2007-05-19<\/td>\n",
       "      <td>961000000<\/td>\n",
       "      <td>169.0<\/td>\n",
       "      <td>[{\"iso_639_1\": \"en\", \"name\": \"English\"}]<\/td>\n",
       "      <td>Released<\/td>\n",
       "      <td>At the end of the world, the adventure begins.<\/td>\n",
       "      <td>Pirates of the Caribbean: At World's End<\/td>\n",
       "      <td>6.9<\/td>\n",
       "      <td>4500<\/td>\n",
       "    <\/tr>\n",
       "    <tr>\n",
       "      <th>2<\/th>\n",
       "      <td>245000000<\/td>\n",
       "      <td>[{\"id\": 28, \"name\": \"Action\"}, {\"id\": 12, \"nam...<\/td>\n",
       "      <td>http:\/\/www.sonypictures.com\/movies\/spectre\/<\/td>\n",
       "      <td>206647<\/td>\n",
       "      <td>[{\"id\": 470, \"name\": \"spy\"}, {\"id\": 818, \"name...<\/td>\n",
       "      <td>en<\/td>\n",
       "      <td>Spectre<\/td>\n",
       "      <td>A cryptic message from Bond’s past sends him o...<\/td>\n",
       "      <td>107.376788<\/td>\n",
       "      <td>[{\"name\": \"Columbia Pictures\", \"id\": 5}, {\"nam...<\/td>\n",
       "      <td>[{\"iso_3166_1\": \"GB\", \"name\": \"United Kingdom\"...<\/td>\n",
       "      <td>2015-10-26<\/td>\n",
       "      <td>880674609<\/td>\n",
       "      <td>148.0<\/td>\n",
       "      <td>[{\"iso_639_1\": \"fr\", \"name\": \"Fran\\u00e7ais\"},...<\/td>\n",
       "      <td>Released<\/td>\n",
       "      <td>A Plan No One Escapes<\/td>\n",
       "      <td>Spectre<\/td>\n",
       "      <td>6.3<\/td>\n",
       "      <td>4466<\/td>\n",
       "    <\/tr>\n",
       "    <tr>\n",
       "      <th>3<\/th>\n",
       "      <td>250000000<\/td>\n",
       "      <td>[{\"id\": 28, \"name\": \"Action\"}, {\"id\": 80, \"nam...<\/td>\n",
       "      <td>http:\/\/www.thedarkknightrises.com\/<\/td>\n",
       "      <td>49026<\/td>\n",
       "      <td>[{\"id\": 849, \"name\": \"dc comics\"}, {\"id\": 853,...<\/td>\n",
       "      <td>en<\/td>\n",
       "      <td>The Dark Knight Rises<\/td>\n",
       "      <td>Following the death of District Attorney Harve...<\/td>\n",
       "      <td>112.312950<\/td>\n",
       "      <td>[{\"name\": \"Legendary Pictures\", \"id\": 923}, {\"...<\/td>\n",
       "      <td>[{\"iso_3166_1\": \"US\", \"name\": \"United States o...<\/td>\n",
       "      <td>2012-07-16<\/td>\n",
       "      <td>1084939099<\/td>\n",
       "      <td>165.0<\/td>\n",
       "      <td>[{\"iso_639_1\": \"en\", \"name\": \"English\"}]<\/td>\n",
       "      <td>Released<\/td>\n",
       "      <td>The Legend Ends<\/td>\n",
       "      <td>The Dark Knight Rises<\/td>\n",
       "      <td>7.6<\/td>\n",
       "      <td>9106<\/td>\n",
       "    <\/tr>\n",
       "    <tr>\n",
       "      <th>4<\/th>\n",
       "      <td>260000000<\/td>\n",
       "      <td>[{\"id\": 28, \"name\": \"Action\"}, {\"id\": 12, \"nam...<\/td>\n",
       "      <td>http:\/\/movies.disney.com\/john-carter<\/td>\n",
       "      <td>49529<\/td>\n",
       "      <td>[{\"id\": 818, \"name\": \"based on novel\"}, {\"id\":...<\/td>\n",
       "      <td>en<\/td>\n",
       "      <td>John Carter<\/td>\n",
       "      <td>John Carter is a war-weary, former military ca...<\/td>\n",
       "      <td>43.926995<\/td>\n",
       "      <td>[{\"name\": \"Walt Disney Pictures\", \"id\": 2}]<\/td>\n",
       "      <td>[{\"iso_3166_1\": \"US\", \"name\": \"United States o...<\/td>\n",
       "      <td>2012-03-07<\/td>\n",
       "      <td>284139100<\/td>\n",
       "      <td>132.0<\/td>\n",
       "      <td>[{\"iso_639_1\": \"en\", \"name\": \"English\"}]<\/td>\n",
       "      <td>Released<\/td>\n",
       "      <td>Lost in our world, found in another.<\/td>\n",
       "      <td>John Carter<\/td>\n",
       "      <td>6.1<\/td>\n",
       "      <td>2124<\/td>\n",
       "    <\/tr>\n",
       "  <\/tbody>\n",
       "<\/table>\n",
       "<\/div>"
      ]
     },
     "metadata":{
      
     },
     "output_type":"display_data"
    }
   ],
   "metadata":{
    "datalore":{
     "node_id":"IZcBh3hqHPswzQZTYx6gqZ",
     "type":"CODE",
     "hide_input_from_viewers":true,
     "hide_output_from_viewers":true
    }
   }
  },
  {
   "cell_type":"code",
   "source":[
    "credit.head(7)"
   ],
   "execution_count":6,
   "outputs":[
    {
     "data":{
      "text\/html":[
       "<div>\n",
       "<style scoped>\n",
       "    .dataframe tbody tr th:only-of-type {\n",
       "        vertical-align: middle;\n",
       "    }\n",
       "\n",
       "    .dataframe tbody tr th {\n",
       "        vertical-align: top;\n",
       "    }\n",
       "\n",
       "    .dataframe thead th {\n",
       "        text-align: right;\n",
       "    }\n",
       "<\/style>\n",
       "<table border=\"1\" class=\"dataframe\">\n",
       "  <thead>\n",
       "    <tr style=\"text-align: right;\">\n",
       "      <th><\/th>\n",
       "      <th>movie_id<\/th>\n",
       "      <th>title<\/th>\n",
       "      <th>cast<\/th>\n",
       "      <th>crew<\/th>\n",
       "    <\/tr>\n",
       "  <\/thead>\n",
       "  <tbody>\n",
       "    <tr>\n",
       "      <th>0<\/th>\n",
       "      <td>19995<\/td>\n",
       "      <td>Avatar<\/td>\n",
       "      <td>[{\"cast_id\": 242, \"character\": \"Jake Sully\", \"...<\/td>\n",
       "      <td>[{\"credit_id\": \"52fe48009251416c750aca23\", \"de...<\/td>\n",
       "    <\/tr>\n",
       "    <tr>\n",
       "      <th>1<\/th>\n",
       "      <td>285<\/td>\n",
       "      <td>Pirates of the Caribbean: At World's End<\/td>\n",
       "      <td>[{\"cast_id\": 4, \"character\": \"Captain Jack Spa...<\/td>\n",
       "      <td>[{\"credit_id\": \"52fe4232c3a36847f800b579\", \"de...<\/td>\n",
       "    <\/tr>\n",
       "    <tr>\n",
       "      <th>2<\/th>\n",
       "      <td>206647<\/td>\n",
       "      <td>Spectre<\/td>\n",
       "      <td>[{\"cast_id\": 1, \"character\": \"James Bond\", \"cr...<\/td>\n",
       "      <td>[{\"credit_id\": \"54805967c3a36829b5002c41\", \"de...<\/td>\n",
       "    <\/tr>\n",
       "    <tr>\n",
       "      <th>3<\/th>\n",
       "      <td>49026<\/td>\n",
       "      <td>The Dark Knight Rises<\/td>\n",
       "      <td>[{\"cast_id\": 2, \"character\": \"Bruce Wayne \/ Ba...<\/td>\n",
       "      <td>[{\"credit_id\": \"52fe4781c3a36847f81398c3\", \"de...<\/td>\n",
       "    <\/tr>\n",
       "    <tr>\n",
       "      <th>4<\/th>\n",
       "      <td>49529<\/td>\n",
       "      <td>John Carter<\/td>\n",
       "      <td>[{\"cast_id\": 5, \"character\": \"John Carter\", \"c...<\/td>\n",
       "      <td>[{\"credit_id\": \"52fe479ac3a36847f813eaa3\", \"de...<\/td>\n",
       "    <\/tr>\n",
       "    <tr>\n",
       "      <th>5<\/th>\n",
       "      <td>559<\/td>\n",
       "      <td>Spider-Man 3<\/td>\n",
       "      <td>[{\"cast_id\": 30, \"character\": \"Peter Parker \/ ...<\/td>\n",
       "      <td>[{\"credit_id\": \"52fe4252c3a36847f80151a5\", \"de...<\/td>\n",
       "    <\/tr>\n",
       "    <tr>\n",
       "      <th>6<\/th>\n",
       "      <td>38757<\/td>\n",
       "      <td>Tangled<\/td>\n",
       "      <td>[{\"cast_id\": 34, \"character\": \"Flynn Rider (vo...<\/td>\n",
       "      <td>[{\"credit_id\": \"52fe46db9251416c91062101\", \"de...<\/td>\n",
       "    <\/tr>\n",
       "  <\/tbody>\n",
       "<\/table>\n",
       "<\/div>"
      ]
     },
     "metadata":{
      
     },
     "output_type":"display_data"
    }
   ],
   "metadata":{
    "datalore":{
     "node_id":"XPqrTAFEuEWoQH3LzEswRw",
     "type":"CODE",
     "hide_input_from_viewers":true,
     "hide_output_from_viewers":true
    }
   }
  },
  {
   "cell_type":"code",
   "source":[
    "movies = movies.merge(credit,on='title')"
   ],
   "execution_count":7,
   "outputs":[
    
   ],
   "metadata":{
    "datalore":{
     "node_id":"9F1slnRaWVXPaxiWomzSCg",
     "type":"CODE",
     "hide_input_from_viewers":true,
     "hide_output_from_viewers":true
    }
   }
  },
  {
   "cell_type":"code",
   "source":[
    "movies.shape"
   ],
   "execution_count":8,
   "outputs":[
    {
     "data":{
      "text\/plain":[
       "(4809, 23)"
      ]
     },
     "metadata":{
      
     },
     "output_type":"display_data"
    }
   ],
   "metadata":{
    "datalore":{
     "node_id":"Fvy10oTuPomDeJPsdM95lh",
     "type":"CODE",
     "hide_input_from_viewers":true,
     "hide_output_from_viewers":true
    }
   }
  },
  {
   "cell_type":"code",
   "source":[
    "movies=movies[['movie_id','title','overview','genres','keywords','cast','crew']]"
   ],
   "execution_count":9,
   "outputs":[
    
   ],
   "metadata":{
    "datalore":{
     "node_id":"7O0LB2eZ0U9hSMVAtvbPBj",
     "type":"CODE",
     "hide_input_from_viewers":true,
     "hide_output_from_viewers":true
    }
   }
  },
  {
   "cell_type":"code",
   "source":[
    "movies.isnull().sum()"
   ],
   "execution_count":10,
   "outputs":[
    {
     "data":{
      "text\/html":[
       "<pre>movie_id    0\n",
       "title       0\n",
       "overview    3\n",
       "genres      0\n",
       "keywords    0\n",
       "cast        0\n",
       "crew        0\n",
       "dtype: int64<\/pre>"
      ]
     },
     "metadata":{
      
     },
     "output_type":"display_data"
    }
   ],
   "metadata":{
    "datalore":{
     "node_id":"hTyJ9WAVSM8AQKW3Y2Wb3g",
     "type":"CODE",
     "hide_input_from_viewers":true,
     "hide_output_from_viewers":true
    }
   }
  },
  {
   "cell_type":"code",
   "source":[
    "movies.duplicated().sum()"
   ],
   "execution_count":11,
   "outputs":[
    {
     "data":{
      "text\/plain":[
       "0"
      ]
     },
     "metadata":{
      
     },
     "output_type":"display_data"
    }
   ],
   "metadata":{
    "datalore":{
     "node_id":"nvuV9tpUe98sHb39Y67fOe",
     "type":"CODE",
     "hide_input_from_viewers":true,
     "hide_output_from_viewers":true
    }
   }
  },
  {
   "cell_type":"code",
   "source":[
    "movies.iloc[2].genres"
   ],
   "execution_count":12,
   "outputs":[
    {
     "data":{
      "text\/plain":[
       "'[{\"id\": 28, \"name\": \"Action\"}, {\"id\": 12, \"name\": \"Adventure\"}, {\"id\": 80, \"name\": \"Crime\"}]'"
      ]
     },
     "metadata":{
      
     },
     "output_type":"display_data"
    }
   ],
   "metadata":{
    "datalore":{
     "node_id":"AaF1gTEM8jhI2bbJa3NfFk",
     "type":"CODE",
     "hide_input_from_viewers":true,
     "hide_output_from_viewers":true
    }
   }
  },
  {
   "cell_type":"code",
   "source":[
    "def convert(obj):\n",
    "    l=[]\n",
    "    for i in ast.literal_eval(obj):\n",
    "        l.append(i['name'])\n",
    "    return l"
   ],
   "execution_count":19,
   "outputs":[
    
   ],
   "metadata":{
    "datalore":{
     "node_id":"0F8d7OyRmxY5ZYo5peKrKY",
     "type":"CODE",
     "hide_input_from_viewers":true,
     "hide_output_from_viewers":true
    }
   }
  },
  {
   "cell_type":"code",
   "source":[
    "movies.head()"
   ],
   "execution_count":13,
   "outputs":[
    {
     "data":{
      "text\/html":[
       "<div>\n",
       "<style scoped>\n",
       "    .dataframe tbody tr th:only-of-type {\n",
       "        vertical-align: middle;\n",
       "    }\n",
       "\n",
       "    .dataframe tbody tr th {\n",
       "        vertical-align: top;\n",
       "    }\n",
       "\n",
       "    .dataframe thead th {\n",
       "        text-align: right;\n",
       "    }\n",
       "<\/style>\n",
       "<table border=\"1\" class=\"dataframe\">\n",
       "  <thead>\n",
       "    <tr style=\"text-align: right;\">\n",
       "      <th><\/th>\n",
       "      <th>movie_id<\/th>\n",
       "      <th>title<\/th>\n",
       "      <th>overview<\/th>\n",
       "      <th>genres<\/th>\n",
       "      <th>keywords<\/th>\n",
       "      <th>cast<\/th>\n",
       "      <th>crew<\/th>\n",
       "    <\/tr>\n",
       "  <\/thead>\n",
       "  <tbody>\n",
       "    <tr>\n",
       "      <th>0<\/th>\n",
       "      <td>19995<\/td>\n",
       "      <td>Avatar<\/td>\n",
       "      <td>In the 22nd century, a paraplegic Marine is di...<\/td>\n",
       "      <td>[{\"id\": 28, \"name\": \"Action\"}, {\"id\": 12, \"nam...<\/td>\n",
       "      <td>[{\"id\": 1463, \"name\": \"culture clash\"}, {\"id\":...<\/td>\n",
       "      <td>[{\"cast_id\": 242, \"character\": \"Jake Sully\", \"...<\/td>\n",
       "      <td>[{\"credit_id\": \"52fe48009251416c750aca23\", \"de...<\/td>\n",
       "    <\/tr>\n",
       "    <tr>\n",
       "      <th>1<\/th>\n",
       "      <td>285<\/td>\n",
       "      <td>Pirates of the Caribbean: At World's End<\/td>\n",
       "      <td>Captain Barbossa, long believed to be dead, ha...<\/td>\n",
       "      <td>[{\"id\": 12, \"name\": \"Adventure\"}, {\"id\": 14, \"...<\/td>\n",
       "      <td>[{\"id\": 270, \"name\": \"ocean\"}, {\"id\": 726, \"na...<\/td>\n",
       "      <td>[{\"cast_id\": 4, \"character\": \"Captain Jack Spa...<\/td>\n",
       "      <td>[{\"credit_id\": \"52fe4232c3a36847f800b579\", \"de...<\/td>\n",
       "    <\/tr>\n",
       "    <tr>\n",
       "      <th>2<\/th>\n",
       "      <td>206647<\/td>\n",
       "      <td>Spectre<\/td>\n",
       "      <td>A cryptic message from Bond’s past sends him o...<\/td>\n",
       "      <td>[{\"id\": 28, \"name\": \"Action\"}, {\"id\": 12, \"nam...<\/td>\n",
       "      <td>[{\"id\": 470, \"name\": \"spy\"}, {\"id\": 818, \"name...<\/td>\n",
       "      <td>[{\"cast_id\": 1, \"character\": \"James Bond\", \"cr...<\/td>\n",
       "      <td>[{\"credit_id\": \"54805967c3a36829b5002c41\", \"de...<\/td>\n",
       "    <\/tr>\n",
       "    <tr>\n",
       "      <th>3<\/th>\n",
       "      <td>49026<\/td>\n",
       "      <td>The Dark Knight Rises<\/td>\n",
       "      <td>Following the death of District Attorney Harve...<\/td>\n",
       "      <td>[{\"id\": 28, \"name\": \"Action\"}, {\"id\": 80, \"nam...<\/td>\n",
       "      <td>[{\"id\": 849, \"name\": \"dc comics\"}, {\"id\": 853,...<\/td>\n",
       "      <td>[{\"cast_id\": 2, \"character\": \"Bruce Wayne \/ Ba...<\/td>\n",
       "      <td>[{\"credit_id\": \"52fe4781c3a36847f81398c3\", \"de...<\/td>\n",
       "    <\/tr>\n",
       "    <tr>\n",
       "      <th>4<\/th>\n",
       "      <td>49529<\/td>\n",
       "      <td>John Carter<\/td>\n",
       "      <td>John Carter is a war-weary, former military ca...<\/td>\n",
       "      <td>[{\"id\": 28, \"name\": \"Action\"}, {\"id\": 12, \"nam...<\/td>\n",
       "      <td>[{\"id\": 818, \"name\": \"based on novel\"}, {\"id\":...<\/td>\n",
       "      <td>[{\"cast_id\": 5, \"character\": \"John Carter\", \"c...<\/td>\n",
       "      <td>[{\"credit_id\": \"52fe479ac3a36847f813eaa3\", \"de...<\/td>\n",
       "    <\/tr>\n",
       "  <\/tbody>\n",
       "<\/table>\n",
       "<\/div>"
      ]
     },
     "metadata":{
      
     },
     "output_type":"display_data"
    }
   ],
   "metadata":{
    "datalore":{
     "node_id":"mWyMVaXVl6jmJ5SUeI6Iew",
     "type":"CODE",
     "hide_input_from_viewers":true,
     "hide_output_from_viewers":true
    }
   }
  },
  {
   "cell_type":"code",
   "source":[
    "movies['keywords'] =movies['keywords'].apply(convert)"
   ],
   "execution_count":20,
   "outputs":[
    
   ],
   "metadata":{
    "datalore":{
     "node_id":"9uF7Ha3EeIGHp9O9mtquIy",
     "type":"CODE",
     "hide_input_from_viewers":true,
     "hide_output_from_viewers":true
    }
   }
  },
  {
   "cell_type":"code",
   "source":[
    "movies.head()"
   ],
   "execution_count":57,
   "outputs":[
    {
     "data":{
      "text\/html":[
       "<div>\n",
       "<style scoped>\n",
       "    .dataframe tbody tr th:only-of-type {\n",
       "        vertical-align: middle;\n",
       "    }\n",
       "\n",
       "    .dataframe tbody tr th {\n",
       "        vertical-align: top;\n",
       "    }\n",
       "\n",
       "    .dataframe thead th {\n",
       "        text-align: right;\n",
       "    }\n",
       "<\/style>\n",
       "<table border=\"1\" class=\"dataframe\">\n",
       "  <thead>\n",
       "    <tr style=\"text-align: right;\">\n",
       "      <th><\/th>\n",
       "      <th>movie_id<\/th>\n",
       "      <th>title<\/th>\n",
       "      <th>overview<\/th>\n",
       "      <th>genres<\/th>\n",
       "      <th>keywords<\/th>\n",
       "      <th>cast<\/th>\n",
       "      <th>crew<\/th>\n",
       "    <\/tr>\n",
       "  <\/thead>\n",
       "  <tbody>\n",
       "    <tr>\n",
       "      <th>0<\/th>\n",
       "      <td>19995<\/td>\n",
       "      <td>Avatar<\/td>\n",
       "      <td>In the 22nd century, a paraplegic Marine is di...<\/td>\n",
       "      <td>[{\"id\": 28, \"name\": \"Action\"}, {\"id\": 12, \"nam...<\/td>\n",
       "      <td>[culture clash, future, space war, space colon...<\/td>\n",
       "      <td>[{\"cast_id\": 242, \"character\": \"Jake Sully\", \"...<\/td>\n",
       "      <td>[{\"credit_id\": \"52fe48009251416c750aca23\", \"de...<\/td>\n",
       "    <\/tr>\n",
       "    <tr>\n",
       "      <th>1<\/th>\n",
       "      <td>285<\/td>\n",
       "      <td>Pirates of the Caribbean: At World's End<\/td>\n",
       "      <td>Captain Barbossa, long believed to be dead, ha...<\/td>\n",
       "      <td>[{\"id\": 12, \"name\": \"Adventure\"}, {\"id\": 14, \"...<\/td>\n",
       "      <td>[ocean, drug abuse, exotic island, east india ...<\/td>\n",
       "      <td>[{\"cast_id\": 4, \"character\": \"Captain Jack Spa...<\/td>\n",
       "      <td>[{\"credit_id\": \"52fe4232c3a36847f800b579\", \"de...<\/td>\n",
       "    <\/tr>\n",
       "    <tr>\n",
       "      <th>2<\/th>\n",
       "      <td>206647<\/td>\n",
       "      <td>Spectre<\/td>\n",
       "      <td>A cryptic message from Bond’s past sends him o...<\/td>\n",
       "      <td>[{\"id\": 28, \"name\": \"Action\"}, {\"id\": 12, \"nam...<\/td>\n",
       "      <td>[spy, based on novel, secret agent, sequel, mi...<\/td>\n",
       "      <td>[{\"cast_id\": 1, \"character\": \"James Bond\", \"cr...<\/td>\n",
       "      <td>[{\"credit_id\": \"54805967c3a36829b5002c41\", \"de...<\/td>\n",
       "    <\/tr>\n",
       "    <tr>\n",
       "      <th>3<\/th>\n",
       "      <td>49026<\/td>\n",
       "      <td>The Dark Knight Rises<\/td>\n",
       "      <td>Following the death of District Attorney Harve...<\/td>\n",
       "      <td>[{\"id\": 28, \"name\": \"Action\"}, {\"id\": 80, \"nam...<\/td>\n",
       "      <td>[dc comics, crime fighter, terrorist, secret i...<\/td>\n",
       "      <td>[{\"cast_id\": 2, \"character\": \"Bruce Wayne \/ Ba...<\/td>\n",
       "      <td>[{\"credit_id\": \"52fe4781c3a36847f81398c3\", \"de...<\/td>\n",
       "    <\/tr>\n",
       "    <tr>\n",
       "      <th>4<\/th>\n",
       "      <td>49529<\/td>\n",
       "      <td>John Carter<\/td>\n",
       "      <td>John Carter is a war-weary, former military ca...<\/td>\n",
       "      <td>[{\"id\": 28, \"name\": \"Action\"}, {\"id\": 12, \"nam...<\/td>\n",
       "      <td>[based on novel, mars, medallion, space travel...<\/td>\n",
       "      <td>[{\"cast_id\": 5, \"character\": \"John Carter\", \"c...<\/td>\n",
       "      <td>[{\"credit_id\": \"52fe479ac3a36847f813eaa3\", \"de...<\/td>\n",
       "    <\/tr>\n",
       "  <\/tbody>\n",
       "<\/table>\n",
       "<\/div>"
      ]
     },
     "metadata":{
      
     },
     "output_type":"display_data"
    }
   ],
   "metadata":{
    "datalore":{
     "node_id":"ym7uiGQwUTP5xIvvmEgU77",
     "type":"CODE",
     "hide_input_from_viewers":true,
     "hide_output_from_viewers":true
    }
   }
  },
  {
   "cell_type":"code",
   "source":[
    "def convert3(obj):\n",
    "    l=[]\n",
    "    counter=0\n",
    "    for i in ast.literal_eval(obj):\n",
    "        if counter!=3:\n",
    "            l.append(i['name'])\n",
    "            counter+=1\n",
    "        else:\n",
    "            break\n",
    "    return l"
   ],
   "execution_count":60,
   "outputs":[
    
   ],
   "metadata":{
    "datalore":{
     "node_id":"6Rq0N69xGV5yXTapuD2epW",
     "type":"CODE",
     "hide_input_from_viewers":true,
     "hide_output_from_viewers":true
    }
   }
  },
  {
   "cell_type":"code",
   "source":[
    "movies['cast']=movies['cast'].apply(convert3)"
   ],
   "execution_count":15,
   "outputs":[
    
   ],
   "metadata":{
    "datalore":{
     "node_id":"yT1bhAgUsi2RPsyv2sx66q",
     "type":"CODE",
     "hide_input_from_viewers":true,
     "hide_output_from_viewers":true
    }
   }
  },
  {
   "cell_type":"code",
   "source":[
    "movies.shape"
   ],
   "execution_count":16,
   "outputs":[
    {
     "data":{
      "text\/plain":[
       "(4809, 7)"
      ]
     },
     "metadata":{
      
     },
     "output_type":"display_data"
    }
   ],
   "metadata":{
    "datalore":{
     "node_id":"ZcSRIjFwjWhcM3XlziKRFB",
     "type":"CODE",
     "hide_input_from_viewers":true,
     "hide_output_from_viewers":true
    }
   }
  },
  {
   "cell_type":"code",
   "source":[
    "movies.dropna(inplace=True)"
   ],
   "execution_count":17,
   "outputs":[
    
   ],
   "metadata":{
    "datalore":{
     "node_id":"diNEzIryLD7RcaDV2MMsVl",
     "type":"CODE",
     "hide_input_from_viewers":true,
     "hide_output_from_viewers":true
    }
   }
  },
  {
   "cell_type":"code",
   "source":[
    "movies.head()"
   ],
   "execution_count":18,
   "outputs":[
    {
     "data":{
      "text\/html":[
       "<div>\n",
       "<style scoped>\n",
       "    .dataframe tbody tr th:only-of-type {\n",
       "        vertical-align: middle;\n",
       "    }\n",
       "\n",
       "    .dataframe tbody tr th {\n",
       "        vertical-align: top;\n",
       "    }\n",
       "\n",
       "    .dataframe thead th {\n",
       "        text-align: right;\n",
       "    }\n",
       "<\/style>\n",
       "<table border=\"1\" class=\"dataframe\">\n",
       "  <thead>\n",
       "    <tr style=\"text-align: right;\">\n",
       "      <th><\/th>\n",
       "      <th>movie_id<\/th>\n",
       "      <th>title<\/th>\n",
       "      <th>overview<\/th>\n",
       "      <th>genres<\/th>\n",
       "      <th>keywords<\/th>\n",
       "      <th>cast<\/th>\n",
       "      <th>crew<\/th>\n",
       "    <\/tr>\n",
       "  <\/thead>\n",
       "  <tbody>\n",
       "    <tr>\n",
       "      <th>0<\/th>\n",
       "      <td>19995<\/td>\n",
       "      <td>Avatar<\/td>\n",
       "      <td>In the 22nd century, a paraplegic Marine is di...<\/td>\n",
       "      <td>[{\"id\": 28, \"name\": \"Action\"}, {\"id\": 12, \"nam...<\/td>\n",
       "      <td>[{\"id\": 1463, \"name\": \"culture clash\"}, {\"id\":...<\/td>\n",
       "      <td>[Sam Worthington, Zoe Saldana, Sigourney Weaver]<\/td>\n",
       "      <td>[{\"credit_id\": \"52fe48009251416c750aca23\", \"de...<\/td>\n",
       "    <\/tr>\n",
       "    <tr>\n",
       "      <th>1<\/th>\n",
       "      <td>285<\/td>\n",
       "      <td>Pirates of the Caribbean: At World's End<\/td>\n",
       "      <td>Captain Barbossa, long believed to be dead, ha...<\/td>\n",
       "      <td>[{\"id\": 12, \"name\": \"Adventure\"}, {\"id\": 14, \"...<\/td>\n",
       "      <td>[{\"id\": 270, \"name\": \"ocean\"}, {\"id\": 726, \"na...<\/td>\n",
       "      <td>[Johnny Depp, Orlando Bloom, Keira Knightley]<\/td>\n",
       "      <td>[{\"credit_id\": \"52fe4232c3a36847f800b579\", \"de...<\/td>\n",
       "    <\/tr>\n",
       "    <tr>\n",
       "      <th>2<\/th>\n",
       "      <td>206647<\/td>\n",
       "      <td>Spectre<\/td>\n",
       "      <td>A cryptic message from Bond’s past sends him o...<\/td>\n",
       "      <td>[{\"id\": 28, \"name\": \"Action\"}, {\"id\": 12, \"nam...<\/td>\n",
       "      <td>[{\"id\": 470, \"name\": \"spy\"}, {\"id\": 818, \"name...<\/td>\n",
       "      <td>[Daniel Craig, Christoph Waltz, Léa Seydoux]<\/td>\n",
       "      <td>[{\"credit_id\": \"54805967c3a36829b5002c41\", \"de...<\/td>\n",
       "    <\/tr>\n",
       "    <tr>\n",
       "      <th>3<\/th>\n",
       "      <td>49026<\/td>\n",
       "      <td>The Dark Knight Rises<\/td>\n",
       "      <td>Following the death of District Attorney Harve...<\/td>\n",
       "      <td>[{\"id\": 28, \"name\": \"Action\"}, {\"id\": 80, \"nam...<\/td>\n",
       "      <td>[{\"id\": 849, \"name\": \"dc comics\"}, {\"id\": 853,...<\/td>\n",
       "      <td>[Christian Bale, Michael Caine, Gary Oldman]<\/td>\n",
       "      <td>[{\"credit_id\": \"52fe4781c3a36847f81398c3\", \"de...<\/td>\n",
       "    <\/tr>\n",
       "    <tr>\n",
       "      <th>4<\/th>\n",
       "      <td>49529<\/td>\n",
       "      <td>John Carter<\/td>\n",
       "      <td>John Carter is a war-weary, former military ca...<\/td>\n",
       "      <td>[{\"id\": 28, \"name\": \"Action\"}, {\"id\": 12, \"nam...<\/td>\n",
       "      <td>[{\"id\": 818, \"name\": \"based on novel\"}, {\"id\":...<\/td>\n",
       "      <td>[Taylor Kitsch, Lynn Collins, Samantha Morton]<\/td>\n",
       "      <td>[{\"credit_id\": \"52fe479ac3a36847f813eaa3\", \"de...<\/td>\n",
       "    <\/tr>\n",
       "  <\/tbody>\n",
       "<\/table>\n",
       "<\/div>"
      ]
     },
     "metadata":{
      
     },
     "output_type":"display_data"
    }
   ],
   "metadata":{
    "datalore":{
     "node_id":"wZU2XTrVIqleQH5ow9PqTX",
     "type":"CODE",
     "hide_input_from_viewers":true,
     "hide_output_from_viewers":true
    }
   }
  },
  {
   "cell_type":"code",
   "source":[
    "movies['genres']=movies['genres'].apply(convert)"
   ],
   "execution_count":21,
   "outputs":[
    
   ],
   "metadata":{
    "datalore":{
     "node_id":"6pgBPOGrX1ZS6atwIwHXDF",
     "type":"CODE",
     "hide_input_from_viewers":true,
     "hide_output_from_viewers":true
    }
   }
  },
  {
   "cell_type":"code",
   "source":[
    "movies.head()"
   ],
   "execution_count":22,
   "outputs":[
    {
     "data":{
      "text\/html":[
       "<div>\n",
       "<style scoped>\n",
       "    .dataframe tbody tr th:only-of-type {\n",
       "        vertical-align: middle;\n",
       "    }\n",
       "\n",
       "    .dataframe tbody tr th {\n",
       "        vertical-align: top;\n",
       "    }\n",
       "\n",
       "    .dataframe thead th {\n",
       "        text-align: right;\n",
       "    }\n",
       "<\/style>\n",
       "<table border=\"1\" class=\"dataframe\">\n",
       "  <thead>\n",
       "    <tr style=\"text-align: right;\">\n",
       "      <th><\/th>\n",
       "      <th>movie_id<\/th>\n",
       "      <th>title<\/th>\n",
       "      <th>overview<\/th>\n",
       "      <th>genres<\/th>\n",
       "      <th>keywords<\/th>\n",
       "      <th>cast<\/th>\n",
       "      <th>crew<\/th>\n",
       "    <\/tr>\n",
       "  <\/thead>\n",
       "  <tbody>\n",
       "    <tr>\n",
       "      <th>0<\/th>\n",
       "      <td>19995<\/td>\n",
       "      <td>Avatar<\/td>\n",
       "      <td>In the 22nd century, a paraplegic Marine is di...<\/td>\n",
       "      <td>[Action, Adventure, Fantasy, Science Fiction]<\/td>\n",
       "      <td>[culture clash, future, space war, space colon...<\/td>\n",
       "      <td>[Sam Worthington, Zoe Saldana, Sigourney Weaver]<\/td>\n",
       "      <td>[{\"credit_id\": \"52fe48009251416c750aca23\", \"de...<\/td>\n",
       "    <\/tr>\n",
       "    <tr>\n",
       "      <th>1<\/th>\n",
       "      <td>285<\/td>\n",
       "      <td>Pirates of the Caribbean: At World's End<\/td>\n",
       "      <td>Captain Barbossa, long believed to be dead, ha...<\/td>\n",
       "      <td>[Adventure, Fantasy, Action]<\/td>\n",
       "      <td>[ocean, drug abuse, exotic island, east india ...<\/td>\n",
       "      <td>[Johnny Depp, Orlando Bloom, Keira Knightley]<\/td>\n",
       "      <td>[{\"credit_id\": \"52fe4232c3a36847f800b579\", \"de...<\/td>\n",
       "    <\/tr>\n",
       "    <tr>\n",
       "      <th>2<\/th>\n",
       "      <td>206647<\/td>\n",
       "      <td>Spectre<\/td>\n",
       "      <td>A cryptic message from Bond’s past sends him o...<\/td>\n",
       "      <td>[Action, Adventure, Crime]<\/td>\n",
       "      <td>[spy, based on novel, secret agent, sequel, mi...<\/td>\n",
       "      <td>[Daniel Craig, Christoph Waltz, Léa Seydoux]<\/td>\n",
       "      <td>[{\"credit_id\": \"54805967c3a36829b5002c41\", \"de...<\/td>\n",
       "    <\/tr>\n",
       "    <tr>\n",
       "      <th>3<\/th>\n",
       "      <td>49026<\/td>\n",
       "      <td>The Dark Knight Rises<\/td>\n",
       "      <td>Following the death of District Attorney Harve...<\/td>\n",
       "      <td>[Action, Crime, Drama, Thriller]<\/td>\n",
       "      <td>[dc comics, crime fighter, terrorist, secret i...<\/td>\n",
       "      <td>[Christian Bale, Michael Caine, Gary Oldman]<\/td>\n",
       "      <td>[{\"credit_id\": \"52fe4781c3a36847f81398c3\", \"de...<\/td>\n",
       "    <\/tr>\n",
       "    <tr>\n",
       "      <th>4<\/th>\n",
       "      <td>49529<\/td>\n",
       "      <td>John Carter<\/td>\n",
       "      <td>John Carter is a war-weary, former military ca...<\/td>\n",
       "      <td>[Action, Adventure, Science Fiction]<\/td>\n",
       "      <td>[based on novel, mars, medallion, space travel...<\/td>\n",
       "      <td>[Taylor Kitsch, Lynn Collins, Samantha Morton]<\/td>\n",
       "      <td>[{\"credit_id\": \"52fe479ac3a36847f813eaa3\", \"de...<\/td>\n",
       "    <\/tr>\n",
       "  <\/tbody>\n",
       "<\/table>\n",
       "<\/div>"
      ]
     },
     "metadata":{
      
     },
     "output_type":"display_data"
    }
   ],
   "metadata":{
    "datalore":{
     "node_id":"rnhIfQ676xhIrNCHOsaiFv",
     "type":"CODE",
     "hide_input_from_viewers":true,
     "hide_output_from_viewers":true
    }
   }
  },
  {
   "cell_type":"code",
   "source":[
    "movies.shape"
   ],
   "execution_count":25,
   "outputs":[
    {
     "data":{
      "text\/plain":[
       "(4806, 7)"
      ]
     },
     "metadata":{
      
     },
     "output_type":"display_data"
    }
   ],
   "metadata":{
    "datalore":{
     "node_id":"GoEU8MU2EyEhfDpqNOTndX",
     "type":"CODE",
     "hide_input_from_viewers":true,
     "hide_output_from_viewers":true
    }
   }
  },
  {
   "cell_type":"code",
   "source":[
    "def fetch_director(obj):\n",
    "    l=[]\n",
    "    for i in ast.literal_eval(obj):\n",
    "        if i['job']==\"Director\":\n",
    "            l.append(i['name'])\n",
    "            break\n",
    "    return l"
   ],
   "execution_count":24,
   "outputs":[
    
   ],
   "metadata":{
    "datalore":{
     "node_id":"NgIgs4Q3OoiEnrcTNUIEYH",
     "type":"CODE",
     "hide_input_from_viewers":true,
     "hide_output_from_viewers":true
    }
   }
  },
  {
   "cell_type":"code",
   "source":[
    "movies['crew']=movies['crew'].apply(fetch_director)"
   ],
   "execution_count":26,
   "outputs":[
    
   ],
   "metadata":{
    "datalore":{
     "node_id":"ht4CpsjjqS9A9KHHG8l8oo",
     "type":"CODE",
     "hide_input_from_viewers":true,
     "hide_output_from_viewers":true
    }
   }
  },
  {
   "cell_type":"code",
   "source":[
    "movies.head()"
   ],
   "execution_count":27,
   "outputs":[
    {
     "data":{
      "text\/html":[
       "<div>\n",
       "<style scoped>\n",
       "    .dataframe tbody tr th:only-of-type {\n",
       "        vertical-align: middle;\n",
       "    }\n",
       "\n",
       "    .dataframe tbody tr th {\n",
       "        vertical-align: top;\n",
       "    }\n",
       "\n",
       "    .dataframe thead th {\n",
       "        text-align: right;\n",
       "    }\n",
       "<\/style>\n",
       "<table border=\"1\" class=\"dataframe\">\n",
       "  <thead>\n",
       "    <tr style=\"text-align: right;\">\n",
       "      <th><\/th>\n",
       "      <th>movie_id<\/th>\n",
       "      <th>title<\/th>\n",
       "      <th>overview<\/th>\n",
       "      <th>genres<\/th>\n",
       "      <th>keywords<\/th>\n",
       "      <th>cast<\/th>\n",
       "      <th>crew<\/th>\n",
       "    <\/tr>\n",
       "  <\/thead>\n",
       "  <tbody>\n",
       "    <tr>\n",
       "      <th>0<\/th>\n",
       "      <td>19995<\/td>\n",
       "      <td>Avatar<\/td>\n",
       "      <td>In the 22nd century, a paraplegic Marine is di...<\/td>\n",
       "      <td>[Action, Adventure, Fantasy, Science Fiction]<\/td>\n",
       "      <td>[culture clash, future, space war, space colon...<\/td>\n",
       "      <td>[Sam Worthington, Zoe Saldana, Sigourney Weaver]<\/td>\n",
       "      <td>[James Cameron]<\/td>\n",
       "    <\/tr>\n",
       "    <tr>\n",
       "      <th>1<\/th>\n",
       "      <td>285<\/td>\n",
       "      <td>Pirates of the Caribbean: At World's End<\/td>\n",
       "      <td>Captain Barbossa, long believed to be dead, ha...<\/td>\n",
       "      <td>[Adventure, Fantasy, Action]<\/td>\n",
       "      <td>[ocean, drug abuse, exotic island, east india ...<\/td>\n",
       "      <td>[Johnny Depp, Orlando Bloom, Keira Knightley]<\/td>\n",
       "      <td>[Gore Verbinski]<\/td>\n",
       "    <\/tr>\n",
       "    <tr>\n",
       "      <th>2<\/th>\n",
       "      <td>206647<\/td>\n",
       "      <td>Spectre<\/td>\n",
       "      <td>A cryptic message from Bond’s past sends him o...<\/td>\n",
       "      <td>[Action, Adventure, Crime]<\/td>\n",
       "      <td>[spy, based on novel, secret agent, sequel, mi...<\/td>\n",
       "      <td>[Daniel Craig, Christoph Waltz, Léa Seydoux]<\/td>\n",
       "      <td>[Sam Mendes]<\/td>\n",
       "    <\/tr>\n",
       "    <tr>\n",
       "      <th>3<\/th>\n",
       "      <td>49026<\/td>\n",
       "      <td>The Dark Knight Rises<\/td>\n",
       "      <td>Following the death of District Attorney Harve...<\/td>\n",
       "      <td>[Action, Crime, Drama, Thriller]<\/td>\n",
       "      <td>[dc comics, crime fighter, terrorist, secret i...<\/td>\n",
       "      <td>[Christian Bale, Michael Caine, Gary Oldman]<\/td>\n",
       "      <td>[Christopher Nolan]<\/td>\n",
       "    <\/tr>\n",
       "    <tr>\n",
       "      <th>4<\/th>\n",
       "      <td>49529<\/td>\n",
       "      <td>John Carter<\/td>\n",
       "      <td>John Carter is a war-weary, former military ca...<\/td>\n",
       "      <td>[Action, Adventure, Science Fiction]<\/td>\n",
       "      <td>[based on novel, mars, medallion, space travel...<\/td>\n",
       "      <td>[Taylor Kitsch, Lynn Collins, Samantha Morton]<\/td>\n",
       "      <td>[Andrew Stanton]<\/td>\n",
       "    <\/tr>\n",
       "  <\/tbody>\n",
       "<\/table>\n",
       "<\/div>"
      ]
     },
     "metadata":{
      
     },
     "output_type":"display_data"
    }
   ],
   "metadata":{
    "datalore":{
     "node_id":"eWdtrYgZuzgNiUvFcq2uWZ",
     "type":"CODE",
     "hide_input_from_viewers":true,
     "hide_output_from_viewers":true
    }
   }
  },
  {
   "cell_type":"code",
   "source":[
    "movies['overview']=movies['overview'].apply(lambda x:x.split())"
   ],
   "execution_count":28,
   "outputs":[
    
   ],
   "metadata":{
    "datalore":{
     "node_id":"mmi5pSKzpaE6Kq7p9LVxM7",
     "type":"CODE",
     "hide_input_from_viewers":true,
     "hide_output_from_viewers":true
    }
   }
  },
  {
   "cell_type":"code",
   "source":[
    "movies.head()"
   ],
   "execution_count":29,
   "outputs":[
    {
     "data":{
      "text\/html":[
       "<div>\n",
       "<style scoped>\n",
       "    .dataframe tbody tr th:only-of-type {\n",
       "        vertical-align: middle;\n",
       "    }\n",
       "\n",
       "    .dataframe tbody tr th {\n",
       "        vertical-align: top;\n",
       "    }\n",
       "\n",
       "    .dataframe thead th {\n",
       "        text-align: right;\n",
       "    }\n",
       "<\/style>\n",
       "<table border=\"1\" class=\"dataframe\">\n",
       "  <thead>\n",
       "    <tr style=\"text-align: right;\">\n",
       "      <th><\/th>\n",
       "      <th>movie_id<\/th>\n",
       "      <th>title<\/th>\n",
       "      <th>overview<\/th>\n",
       "      <th>genres<\/th>\n",
       "      <th>keywords<\/th>\n",
       "      <th>cast<\/th>\n",
       "      <th>crew<\/th>\n",
       "    <\/tr>\n",
       "  <\/thead>\n",
       "  <tbody>\n",
       "    <tr>\n",
       "      <th>0<\/th>\n",
       "      <td>19995<\/td>\n",
       "      <td>Avatar<\/td>\n",
       "      <td>[In, the, 22nd, century,, a, paraplegic, Marin...<\/td>\n",
       "      <td>[Action, Adventure, Fantasy, Science Fiction]<\/td>\n",
       "      <td>[culture clash, future, space war, space colon...<\/td>\n",
       "      <td>[Sam Worthington, Zoe Saldana, Sigourney Weaver]<\/td>\n",
       "      <td>[James Cameron]<\/td>\n",
       "    <\/tr>\n",
       "    <tr>\n",
       "      <th>1<\/th>\n",
       "      <td>285<\/td>\n",
       "      <td>Pirates of the Caribbean: At World's End<\/td>\n",
       "      <td>[Captain, Barbossa,, long, believed, to, be, d...<\/td>\n",
       "      <td>[Adventure, Fantasy, Action]<\/td>\n",
       "      <td>[ocean, drug abuse, exotic island, east india ...<\/td>\n",
       "      <td>[Johnny Depp, Orlando Bloom, Keira Knightley]<\/td>\n",
       "      <td>[Gore Verbinski]<\/td>\n",
       "    <\/tr>\n",
       "    <tr>\n",
       "      <th>2<\/th>\n",
       "      <td>206647<\/td>\n",
       "      <td>Spectre<\/td>\n",
       "      <td>[A, cryptic, message, from, Bond’s, past, send...<\/td>\n",
       "      <td>[Action, Adventure, Crime]<\/td>\n",
       "      <td>[spy, based on novel, secret agent, sequel, mi...<\/td>\n",
       "      <td>[Daniel Craig, Christoph Waltz, Léa Seydoux]<\/td>\n",
       "      <td>[Sam Mendes]<\/td>\n",
       "    <\/tr>\n",
       "    <tr>\n",
       "      <th>3<\/th>\n",
       "      <td>49026<\/td>\n",
       "      <td>The Dark Knight Rises<\/td>\n",
       "      <td>[Following, the, death, of, District, Attorney...<\/td>\n",
       "      <td>[Action, Crime, Drama, Thriller]<\/td>\n",
       "      <td>[dc comics, crime fighter, terrorist, secret i...<\/td>\n",
       "      <td>[Christian Bale, Michael Caine, Gary Oldman]<\/td>\n",
       "      <td>[Christopher Nolan]<\/td>\n",
       "    <\/tr>\n",
       "    <tr>\n",
       "      <th>4<\/th>\n",
       "      <td>49529<\/td>\n",
       "      <td>John Carter<\/td>\n",
       "      <td>[John, Carter, is, a, war-weary,, former, mili...<\/td>\n",
       "      <td>[Action, Adventure, Science Fiction]<\/td>\n",
       "      <td>[based on novel, mars, medallion, space travel...<\/td>\n",
       "      <td>[Taylor Kitsch, Lynn Collins, Samantha Morton]<\/td>\n",
       "      <td>[Andrew Stanton]<\/td>\n",
       "    <\/tr>\n",
       "  <\/tbody>\n",
       "<\/table>\n",
       "<\/div>"
      ]
     },
     "metadata":{
      
     },
     "output_type":"display_data"
    }
   ],
   "metadata":{
    "datalore":{
     "node_id":"8DbHkczvSsBGZlrFToaPrE",
     "type":"CODE",
     "hide_input_from_viewers":true,
     "hide_output_from_viewers":true
    }
   }
  },
  {
   "cell_type":"code",
   "source":[
    "movies['genres']=movies['genres'].apply(lambda x:[i.replace(\" \",\"\") for i in x])"
   ],
   "execution_count":30,
   "outputs":[
    
   ],
   "metadata":{
    "datalore":{
     "node_id":"gjSwJbhOCvelYvlLuLTieS",
     "type":"CODE",
     "hide_input_from_viewers":true,
     "hide_output_from_viewers":true
    }
   }
  },
  {
   "cell_type":"code",
   "source":[
    "movies['keywords']=movies['keywords'].apply(lambda x:[i.replace(\" \",\"\") for i in x])"
   ],
   "execution_count":31,
   "outputs":[
    
   ],
   "metadata":{
    "datalore":{
     "node_id":"qxUVjJTRj6Q6Say7qpYu40",
     "type":"CODE",
     "hide_input_from_viewers":true,
     "hide_output_from_viewers":true
    }
   }
  },
  {
   "cell_type":"code",
   "source":[
    "movies['crew']=movies['crew'].apply(lambda x:[i.replace(\" \",\"\") for i in x])"
   ],
   "execution_count":32,
   "outputs":[
    
   ],
   "metadata":{
    "datalore":{
     "node_id":"5nuiGQJIE42D6XiLaGWN6C",
     "type":"CODE",
     "hide_input_from_viewers":true,
     "hide_output_from_viewers":true
    }
   }
  },
  {
   "cell_type":"code",
   "source":[
    "movies['cast']=movies['cast'].apply(lambda x:[i.replace(\" \",\"\") for i in x])"
   ],
   "execution_count":33,
   "outputs":[
    
   ],
   "metadata":{
    "datalore":{
     "node_id":"diw5ZfPgxcF6hVepIwEk3l",
     "type":"CODE",
     "hide_input_from_viewers":true,
     "hide_output_from_viewers":true
    }
   }
  },
  {
   "cell_type":"code",
   "source":[
    "movies.head()"
   ],
   "execution_count":34,
   "outputs":[
    {
     "data":{
      "text\/html":[
       "<div>\n",
       "<style scoped>\n",
       "    .dataframe tbody tr th:only-of-type {\n",
       "        vertical-align: middle;\n",
       "    }\n",
       "\n",
       "    .dataframe tbody tr th {\n",
       "        vertical-align: top;\n",
       "    }\n",
       "\n",
       "    .dataframe thead th {\n",
       "        text-align: right;\n",
       "    }\n",
       "<\/style>\n",
       "<table border=\"1\" class=\"dataframe\">\n",
       "  <thead>\n",
       "    <tr style=\"text-align: right;\">\n",
       "      <th><\/th>\n",
       "      <th>movie_id<\/th>\n",
       "      <th>title<\/th>\n",
       "      <th>overview<\/th>\n",
       "      <th>genres<\/th>\n",
       "      <th>keywords<\/th>\n",
       "      <th>cast<\/th>\n",
       "      <th>crew<\/th>\n",
       "    <\/tr>\n",
       "  <\/thead>\n",
       "  <tbody>\n",
       "    <tr>\n",
       "      <th>0<\/th>\n",
       "      <td>19995<\/td>\n",
       "      <td>Avatar<\/td>\n",
       "      <td>[In, the, 22nd, century,, a, paraplegic, Marin...<\/td>\n",
       "      <td>[Action, Adventure, Fantasy, ScienceFiction]<\/td>\n",
       "      <td>[cultureclash, future, spacewar, spacecolony, ...<\/td>\n",
       "      <td>[SamWorthington, ZoeSaldana, SigourneyWeaver]<\/td>\n",
       "      <td>[JamesCameron]<\/td>\n",
       "    <\/tr>\n",
       "    <tr>\n",
       "      <th>1<\/th>\n",
       "      <td>285<\/td>\n",
       "      <td>Pirates of the Caribbean: At World's End<\/td>\n",
       "      <td>[Captain, Barbossa,, long, believed, to, be, d...<\/td>\n",
       "      <td>[Adventure, Fantasy, Action]<\/td>\n",
       "      <td>[ocean, drugabuse, exoticisland, eastindiatrad...<\/td>\n",
       "      <td>[JohnnyDepp, OrlandoBloom, KeiraKnightley]<\/td>\n",
       "      <td>[GoreVerbinski]<\/td>\n",
       "    <\/tr>\n",
       "    <tr>\n",
       "      <th>2<\/th>\n",
       "      <td>206647<\/td>\n",
       "      <td>Spectre<\/td>\n",
       "      <td>[A, cryptic, message, from, Bond’s, past, send...<\/td>\n",
       "      <td>[Action, Adventure, Crime]<\/td>\n",
       "      <td>[spy, basedonnovel, secretagent, sequel, mi6, ...<\/td>\n",
       "      <td>[DanielCraig, ChristophWaltz, LéaSeydoux]<\/td>\n",
       "      <td>[SamMendes]<\/td>\n",
       "    <\/tr>\n",
       "    <tr>\n",
       "      <th>3<\/th>\n",
       "      <td>49026<\/td>\n",
       "      <td>The Dark Knight Rises<\/td>\n",
       "      <td>[Following, the, death, of, District, Attorney...<\/td>\n",
       "      <td>[Action, Crime, Drama, Thriller]<\/td>\n",
       "      <td>[dccomics, crimefighter, terrorist, secretiden...<\/td>\n",
       "      <td>[ChristianBale, MichaelCaine, GaryOldman]<\/td>\n",
       "      <td>[ChristopherNolan]<\/td>\n",
       "    <\/tr>\n",
       "    <tr>\n",
       "      <th>4<\/th>\n",
       "      <td>49529<\/td>\n",
       "      <td>John Carter<\/td>\n",
       "      <td>[John, Carter, is, a, war-weary,, former, mili...<\/td>\n",
       "      <td>[Action, Adventure, ScienceFiction]<\/td>\n",
       "      <td>[basedonnovel, mars, medallion, spacetravel, p...<\/td>\n",
       "      <td>[TaylorKitsch, LynnCollins, SamanthaMorton]<\/td>\n",
       "      <td>[AndrewStanton]<\/td>\n",
       "    <\/tr>\n",
       "  <\/tbody>\n",
       "<\/table>\n",
       "<\/div>"
      ]
     },
     "metadata":{
      
     },
     "output_type":"display_data"
    }
   ],
   "metadata":{
    "datalore":{
     "node_id":"l6NXIkrVGIawpg61ZSpssV",
     "type":"CODE",
     "hide_input_from_viewers":true,
     "hide_output_from_viewers":true
    }
   }
  },
  {
   "cell_type":"code",
   "source":[
    "movies['tags'] = movies['overview'] +movies['genres']+ movies['keywords'] + movies['cast'] + movies['crew']  "
   ],
   "execution_count":35,
   "outputs":[
    
   ],
   "metadata":{
    "datalore":{
     "node_id":"0m3GqCsjvTZXLTiyl2kz3y",
     "type":"CODE",
     "hide_input_from_viewers":true,
     "hide_output_from_viewers":true
    }
   }
  },
  {
   "cell_type":"code",
   "source":[
    "movies.head()"
   ],
   "execution_count":36,
   "outputs":[
    {
     "data":{
      "text\/html":[
       "<div>\n",
       "<style scoped>\n",
       "    .dataframe tbody tr th:only-of-type {\n",
       "        vertical-align: middle;\n",
       "    }\n",
       "\n",
       "    .dataframe tbody tr th {\n",
       "        vertical-align: top;\n",
       "    }\n",
       "\n",
       "    .dataframe thead th {\n",
       "        text-align: right;\n",
       "    }\n",
       "<\/style>\n",
       "<table border=\"1\" class=\"dataframe\">\n",
       "  <thead>\n",
       "    <tr style=\"text-align: right;\">\n",
       "      <th><\/th>\n",
       "      <th>movie_id<\/th>\n",
       "      <th>title<\/th>\n",
       "      <th>overview<\/th>\n",
       "      <th>genres<\/th>\n",
       "      <th>keywords<\/th>\n",
       "      <th>cast<\/th>\n",
       "      <th>crew<\/th>\n",
       "      <th>tags<\/th>\n",
       "    <\/tr>\n",
       "  <\/thead>\n",
       "  <tbody>\n",
       "    <tr>\n",
       "      <th>0<\/th>\n",
       "      <td>19995<\/td>\n",
       "      <td>Avatar<\/td>\n",
       "      <td>[In, the, 22nd, century,, a, paraplegic, Marin...<\/td>\n",
       "      <td>[Action, Adventure, Fantasy, ScienceFiction]<\/td>\n",
       "      <td>[cultureclash, future, spacewar, spacecolony, ...<\/td>\n",
       "      <td>[SamWorthington, ZoeSaldana, SigourneyWeaver]<\/td>\n",
       "      <td>[JamesCameron]<\/td>\n",
       "      <td>[In, the, 22nd, century,, a, paraplegic, Marin...<\/td>\n",
       "    <\/tr>\n",
       "    <tr>\n",
       "      <th>1<\/th>\n",
       "      <td>285<\/td>\n",
       "      <td>Pirates of the Caribbean: At World's End<\/td>\n",
       "      <td>[Captain, Barbossa,, long, believed, to, be, d...<\/td>\n",
       "      <td>[Adventure, Fantasy, Action]<\/td>\n",
       "      <td>[ocean, drugabuse, exoticisland, eastindiatrad...<\/td>\n",
       "      <td>[JohnnyDepp, OrlandoBloom, KeiraKnightley]<\/td>\n",
       "      <td>[GoreVerbinski]<\/td>\n",
       "      <td>[Captain, Barbossa,, long, believed, to, be, d...<\/td>\n",
       "    <\/tr>\n",
       "    <tr>\n",
       "      <th>2<\/th>\n",
       "      <td>206647<\/td>\n",
       "      <td>Spectre<\/td>\n",
       "      <td>[A, cryptic, message, from, Bond’s, past, send...<\/td>\n",
       "      <td>[Action, Adventure, Crime]<\/td>\n",
       "      <td>[spy, basedonnovel, secretagent, sequel, mi6, ...<\/td>\n",
       "      <td>[DanielCraig, ChristophWaltz, LéaSeydoux]<\/td>\n",
       "      <td>[SamMendes]<\/td>\n",
       "      <td>[A, cryptic, message, from, Bond’s, past, send...<\/td>\n",
       "    <\/tr>\n",
       "    <tr>\n",
       "      <th>3<\/th>\n",
       "      <td>49026<\/td>\n",
       "      <td>The Dark Knight Rises<\/td>\n",
       "      <td>[Following, the, death, of, District, Attorney...<\/td>\n",
       "      <td>[Action, Crime, Drama, Thriller]<\/td>\n",
       "      <td>[dccomics, crimefighter, terrorist, secretiden...<\/td>\n",
       "      <td>[ChristianBale, MichaelCaine, GaryOldman]<\/td>\n",
       "      <td>[ChristopherNolan]<\/td>\n",
       "      <td>[Following, the, death, of, District, Attorney...<\/td>\n",
       "    <\/tr>\n",
       "    <tr>\n",
       "      <th>4<\/th>\n",
       "      <td>49529<\/td>\n",
       "      <td>John Carter<\/td>\n",
       "      <td>[John, Carter, is, a, war-weary,, former, mili...<\/td>\n",
       "      <td>[Action, Adventure, ScienceFiction]<\/td>\n",
       "      <td>[basedonnovel, mars, medallion, spacetravel, p...<\/td>\n",
       "      <td>[TaylorKitsch, LynnCollins, SamanthaMorton]<\/td>\n",
       "      <td>[AndrewStanton]<\/td>\n",
       "      <td>[John, Carter, is, a, war-weary,, former, mili...<\/td>\n",
       "    <\/tr>\n",
       "  <\/tbody>\n",
       "<\/table>\n",
       "<\/div>"
      ]
     },
     "metadata":{
      
     },
     "output_type":"display_data"
    }
   ],
   "metadata":{
    "datalore":{
     "node_id":"FUUg6ADQhDUZemtHTtlfcK",
     "type":"CODE",
     "hide_input_from_viewers":true,
     "hide_output_from_viewers":true
    }
   }
  },
  {
   "cell_type":"code",
   "source":[
    "new_df = movies[['movie_id','title','tags']]"
   ],
   "execution_count":37,
   "outputs":[
    
   ],
   "metadata":{
    "datalore":{
     "node_id":"XzD3MaR7hgUTCAr6H9ErHr",
     "type":"CODE",
     "hide_input_from_viewers":true,
     "hide_output_from_viewers":true
    }
   }
  },
  {
   "cell_type":"code",
   "source":[
    "new_df.head()"
   ],
   "execution_count":38,
   "outputs":[
    {
     "data":{
      "text\/html":[
       "<div>\n",
       "<style scoped>\n",
       "    .dataframe tbody tr th:only-of-type {\n",
       "        vertical-align: middle;\n",
       "    }\n",
       "\n",
       "    .dataframe tbody tr th {\n",
       "        vertical-align: top;\n",
       "    }\n",
       "\n",
       "    .dataframe thead th {\n",
       "        text-align: right;\n",
       "    }\n",
       "<\/style>\n",
       "<table border=\"1\" class=\"dataframe\">\n",
       "  <thead>\n",
       "    <tr style=\"text-align: right;\">\n",
       "      <th><\/th>\n",
       "      <th>movie_id<\/th>\n",
       "      <th>title<\/th>\n",
       "      <th>tags<\/th>\n",
       "    <\/tr>\n",
       "  <\/thead>\n",
       "  <tbody>\n",
       "    <tr>\n",
       "      <th>0<\/th>\n",
       "      <td>19995<\/td>\n",
       "      <td>Avatar<\/td>\n",
       "      <td>[In, the, 22nd, century,, a, paraplegic, Marin...<\/td>\n",
       "    <\/tr>\n",
       "    <tr>\n",
       "      <th>1<\/th>\n",
       "      <td>285<\/td>\n",
       "      <td>Pirates of the Caribbean: At World's End<\/td>\n",
       "      <td>[Captain, Barbossa,, long, believed, to, be, d...<\/td>\n",
       "    <\/tr>\n",
       "    <tr>\n",
       "      <th>2<\/th>\n",
       "      <td>206647<\/td>\n",
       "      <td>Spectre<\/td>\n",
       "      <td>[A, cryptic, message, from, Bond’s, past, send...<\/td>\n",
       "    <\/tr>\n",
       "    <tr>\n",
       "      <th>3<\/th>\n",
       "      <td>49026<\/td>\n",
       "      <td>The Dark Knight Rises<\/td>\n",
       "      <td>[Following, the, death, of, District, Attorney...<\/td>\n",
       "    <\/tr>\n",
       "    <tr>\n",
       "      <th>4<\/th>\n",
       "      <td>49529<\/td>\n",
       "      <td>John Carter<\/td>\n",
       "      <td>[John, Carter, is, a, war-weary,, former, mili...<\/td>\n",
       "    <\/tr>\n",
       "  <\/tbody>\n",
       "<\/table>\n",
       "<\/div>"
      ]
     },
     "metadata":{
      
     },
     "output_type":"display_data"
    }
   ],
   "metadata":{
    "datalore":{
     "node_id":"kSUTeIEUruSE5aLdAgzery",
     "type":"CODE",
     "hide_input_from_viewers":true,
     "hide_output_from_viewers":true
    }
   }
  },
  {
   "cell_type":"code",
   "source":[
    "new_df['tags']=new_df['tags'].apply(lambda x:\" \".join(x))"
   ],
   "execution_count":39,
   "outputs":[
    {
     "name":"stderr",
     "text":[
      "<ipython-input-39-53a061086f2e>:1: SettingWithCopyWarning: \n",
      "A value is trying to be set on a copy of a slice from a DataFrame.\n",
      "Try using .loc[row_indexer,col_indexer] = value instead\n",
      "\n",
      "See the caveats in the documentation: https:\/\/pandas.pydata.org\/pandas-docs\/stable\/user_guide\/indexing.html#returning-a-view-versus-a-copy\n",
      "  new_df['tags']=new_df['tags'].apply(lambda x:\" \".join(x))\n"
     ],
     "output_type":"stream"
    }
   ],
   "metadata":{
    "datalore":{
     "node_id":"y0WmnUsOIkU6oOah7RX4Sz",
     "type":"CODE",
     "hide_input_from_viewers":true,
     "hide_output_from_viewers":true
    }
   }
  },
  {
   "cell_type":"code",
   "source":[
    "new_df.head()"
   ],
   "execution_count":40,
   "outputs":[
    {
     "data":{
      "text\/html":[
       "<div>\n",
       "<style scoped>\n",
       "    .dataframe tbody tr th:only-of-type {\n",
       "        vertical-align: middle;\n",
       "    }\n",
       "\n",
       "    .dataframe tbody tr th {\n",
       "        vertical-align: top;\n",
       "    }\n",
       "\n",
       "    .dataframe thead th {\n",
       "        text-align: right;\n",
       "    }\n",
       "<\/style>\n",
       "<table border=\"1\" class=\"dataframe\">\n",
       "  <thead>\n",
       "    <tr style=\"text-align: right;\">\n",
       "      <th><\/th>\n",
       "      <th>movie_id<\/th>\n",
       "      <th>title<\/th>\n",
       "      <th>tags<\/th>\n",
       "    <\/tr>\n",
       "  <\/thead>\n",
       "  <tbody>\n",
       "    <tr>\n",
       "      <th>0<\/th>\n",
       "      <td>19995<\/td>\n",
       "      <td>Avatar<\/td>\n",
       "      <td>In the 22nd century, a paraplegic Marine is di...<\/td>\n",
       "    <\/tr>\n",
       "    <tr>\n",
       "      <th>1<\/th>\n",
       "      <td>285<\/td>\n",
       "      <td>Pirates of the Caribbean: At World's End<\/td>\n",
       "      <td>Captain Barbossa, long believed to be dead, ha...<\/td>\n",
       "    <\/tr>\n",
       "    <tr>\n",
       "      <th>2<\/th>\n",
       "      <td>206647<\/td>\n",
       "      <td>Spectre<\/td>\n",
       "      <td>A cryptic message from Bond’s past sends him o...<\/td>\n",
       "    <\/tr>\n",
       "    <tr>\n",
       "      <th>3<\/th>\n",
       "      <td>49026<\/td>\n",
       "      <td>The Dark Knight Rises<\/td>\n",
       "      <td>Following the death of District Attorney Harve...<\/td>\n",
       "    <\/tr>\n",
       "    <tr>\n",
       "      <th>4<\/th>\n",
       "      <td>49529<\/td>\n",
       "      <td>John Carter<\/td>\n",
       "      <td>John Carter is a war-weary, former military ca...<\/td>\n",
       "    <\/tr>\n",
       "  <\/tbody>\n",
       "<\/table>\n",
       "<\/div>"
      ]
     },
     "metadata":{
      
     },
     "output_type":"display_data"
    }
   ],
   "metadata":{
    "datalore":{
     "node_id":"7EPmIz8dFf2s6eEM94KRkR",
     "type":"CODE",
     "hide_input_from_viewers":true,
     "hide_output_from_viewers":true
    }
   }
  },
  {
   "cell_type":"code",
   "source":[
    "new_df['tags'][0]"
   ],
   "execution_count":41,
   "outputs":[
    {
     "data":{
      "text\/plain":[
       "'In the 22nd century, a paraplegic Marine is dispatched to the moon Pandora on a unique mission, but becomes torn between following orders and protecting an alien civilization. Action Adventure Fantasy ScienceFiction cultureclash future spacewar spacecolony society spacetravel futuristic romance space alien tribe alienplanet cgi marine soldier battle loveaffair antiwar powerrelations mindandsoul 3d SamWorthington ZoeSaldana SigourneyWeaver JamesCameron'"
      ]
     },
     "metadata":{
      
     },
     "output_type":"display_data"
    }
   ],
   "metadata":{
    "datalore":{
     "node_id":"6zcNDgLZiQqn0I5dUstyU1",
     "type":"CODE",
     "hide_input_from_viewers":true,
     "hide_output_from_viewers":true
    }
   }
  },
  {
   "cell_type":"code",
   "source":[
    "new_df['tags']=new_df['tags'].apply(lambda x:x.lower())"
   ],
   "execution_count":42,
   "outputs":[
    {
     "name":"stderr",
     "text":[
      "<ipython-input-42-242d679aab18>:1: SettingWithCopyWarning: \n",
      "A value is trying to be set on a copy of a slice from a DataFrame.\n",
      "Try using .loc[row_indexer,col_indexer] = value instead\n",
      "\n",
      "See the caveats in the documentation: https:\/\/pandas.pydata.org\/pandas-docs\/stable\/user_guide\/indexing.html#returning-a-view-versus-a-copy\n",
      "  new_df['tags']=new_df['tags'].apply(lambda x:x.lower())\n"
     ],
     "output_type":"stream"
    }
   ],
   "metadata":{
    "datalore":{
     "node_id":"2dLdShMhNZEVVEmBCh1Qd2",
     "type":"CODE",
     "hide_input_from_viewers":true,
     "hide_output_from_viewers":true
    }
   }
  },
  {
   "cell_type":"code",
   "source":[
    "new_df.head()"
   ],
   "execution_count":43,
   "outputs":[
    {
     "data":{
      "text\/html":[
       "<div>\n",
       "<style scoped>\n",
       "    .dataframe tbody tr th:only-of-type {\n",
       "        vertical-align: middle;\n",
       "    }\n",
       "\n",
       "    .dataframe tbody tr th {\n",
       "        vertical-align: top;\n",
       "    }\n",
       "\n",
       "    .dataframe thead th {\n",
       "        text-align: right;\n",
       "    }\n",
       "<\/style>\n",
       "<table border=\"1\" class=\"dataframe\">\n",
       "  <thead>\n",
       "    <tr style=\"text-align: right;\">\n",
       "      <th><\/th>\n",
       "      <th>movie_id<\/th>\n",
       "      <th>title<\/th>\n",
       "      <th>tags<\/th>\n",
       "    <\/tr>\n",
       "  <\/thead>\n",
       "  <tbody>\n",
       "    <tr>\n",
       "      <th>0<\/th>\n",
       "      <td>19995<\/td>\n",
       "      <td>Avatar<\/td>\n",
       "      <td>in the 22nd century, a paraplegic marine is di...<\/td>\n",
       "    <\/tr>\n",
       "    <tr>\n",
       "      <th>1<\/th>\n",
       "      <td>285<\/td>\n",
       "      <td>Pirates of the Caribbean: At World's End<\/td>\n",
       "      <td>captain barbossa, long believed to be dead, ha...<\/td>\n",
       "    <\/tr>\n",
       "    <tr>\n",
       "      <th>2<\/th>\n",
       "      <td>206647<\/td>\n",
       "      <td>Spectre<\/td>\n",
       "      <td>a cryptic message from bond’s past sends him o...<\/td>\n",
       "    <\/tr>\n",
       "    <tr>\n",
       "      <th>3<\/th>\n",
       "      <td>49026<\/td>\n",
       "      <td>The Dark Knight Rises<\/td>\n",
       "      <td>following the death of district attorney harve...<\/td>\n",
       "    <\/tr>\n",
       "    <tr>\n",
       "      <th>4<\/th>\n",
       "      <td>49529<\/td>\n",
       "      <td>John Carter<\/td>\n",
       "      <td>john carter is a war-weary, former military ca...<\/td>\n",
       "    <\/tr>\n",
       "  <\/tbody>\n",
       "<\/table>\n",
       "<\/div>"
      ]
     },
     "metadata":{
      
     },
     "output_type":"display_data"
    }
   ],
   "metadata":{
    "datalore":{
     "node_id":"wfm9pTQUsnY3NMaSKPyMXk",
     "type":"CODE",
     "hide_input_from_viewers":true,
     "hide_output_from_viewers":true
    }
   }
  },
  {
   "cell_type":"code",
   "source":[
    "from sklearn.feature_extraction.text import CountVectorizer\n",
    "cv = CountVectorizer(max_features=5000,stop_words='english')"
   ],
   "execution_count":44,
   "outputs":[
    
   ],
   "metadata":{
    "datalore":{
     "node_id":"QUzK1SVAwYrAFP3H5rOITM",
     "type":"CODE",
     "hide_input_from_viewers":true,
     "hide_output_from_viewers":true
    }
   }
  },
  {
   "cell_type":"code",
   "source":[
    "vectors=cv.fit_transform(new_df['tags']).toarray()"
   ],
   "execution_count":45,
   "outputs":[
    
   ],
   "metadata":{
    "datalore":{
     "node_id":"Wf6Sv6s4nHuv1rBySfyCtq",
     "type":"CODE",
     "hide_input_from_viewers":true,
     "hide_output_from_viewers":true
    }
   }
  },
  {
   "cell_type":"code",
   "source":[
    "vectors[0]"
   ],
   "execution_count":46,
   "outputs":[
    {
     "data":{
      "text\/html":[
       "<pre>array([0, 0, 0, ..., 0, 0, 0])<\/pre>"
      ]
     },
     "metadata":{
      
     },
     "output_type":"display_data"
    }
   ],
   "metadata":{
    "datalore":{
     "node_id":"D27mAORFBphzZwllF8mCWg",
     "type":"CODE",
     "hide_input_from_viewers":true,
     "hide_output_from_viewers":true
    }
   }
  },
  {
   "cell_type":"code",
   "source":[
    "import nltk"
   ],
   "execution_count":47,
   "outputs":[
    
   ],
   "metadata":{
    "datalore":{
     "node_id":"1Q7Asdv5ur57YL9bKOkaEP",
     "type":"CODE",
     "hide_input_from_viewers":true,
     "hide_output_from_viewers":true
    }
   }
  },
  {
   "cell_type":"code",
   "source":[
    "from nltk.stem.porter import  PorterStemmer\n",
    "ps = PorterStemmer()"
   ],
   "execution_count":48,
   "outputs":[
    
   ],
   "metadata":{
    "datalore":{
     "node_id":"JIAAqswAnXkPVMb8Dfklp2",
     "type":"CODE",
     "hide_input_from_viewers":true,
     "hide_output_from_viewers":true
    }
   }
  },
  {
   "cell_type":"code",
   "source":[
    "def stem(text):\n",
    "    y=[]\n",
    "    for i in text.split():\n",
    "        y.append(ps.stem(i))\n",
    "\n",
    "    return \" \".join(y)"
   ],
   "execution_count":49,
   "outputs":[
    
   ],
   "metadata":{
    "datalore":{
     "node_id":"hZoXEXmkGjOa0yGqsLBcZd",
     "type":"CODE",
     "hide_input_from_viewers":true,
     "hide_output_from_viewers":true
    }
   }
  },
  {
   "cell_type":"code",
   "source":[
    "new_df['tags']=new_df['tags'].apply(stem)"
   ],
   "execution_count":50,
   "outputs":[
    {
     "name":"stderr",
     "text":[
      "<ipython-input-50-402dd7cb6b10>:1: SettingWithCopyWarning: \n",
      "A value is trying to be set on a copy of a slice from a DataFrame.\n",
      "Try using .loc[row_indexer,col_indexer] = value instead\n",
      "\n",
      "See the caveats in the documentation: https:\/\/pandas.pydata.org\/pandas-docs\/stable\/user_guide\/indexing.html#returning-a-view-versus-a-copy\n",
      "  new_df['tags']=new_df['tags'].apply(stem)\n"
     ],
     "output_type":"stream"
    }
   ],
   "metadata":{
    "datalore":{
     "node_id":"sFvHS6EIz2kQS9m34z0OxP",
     "type":"CODE",
     "hide_input_from_viewers":true,
     "hide_output_from_viewers":true
    }
   }
  },
  {
   "cell_type":"code",
   "source":[
    "cv.get_feature_names_out()"
   ],
   "execution_count":51,
   "outputs":[
    {
     "data":{
      "text\/html":[
       "<pre>array(['000', '007', '10', ..., 'zone', 'zoo', 'zooeydeschanel'],\n",
       "      dtype=object)<\/pre>"
      ]
     },
     "metadata":{
      
     },
     "output_type":"display_data"
    }
   ],
   "metadata":{
    "datalore":{
     "node_id":"2n1fWKNKURv1Ow5o3qnICL",
     "type":"CODE",
     "hide_input_from_viewers":true,
     "hide_output_from_viewers":true
    }
   }
  },
  {
   "cell_type":"code",
   "source":[
    "from sklearn.metrics.pairwise import  cosine_similarity"
   ],
   "execution_count":55,
   "outputs":[
    
   ],
   "metadata":{
    "datalore":{
     "node_id":"vHQER3G0k7clO7ndfwUSos",
     "type":"CODE",
     "hide_input_from_viewers":true,
     "hide_output_from_viewers":true
    }
   }
  },
  {
   "cell_type":"code",
   "source":[
    "similarity=cosine_similarity(vectors)"
   ],
   "execution_count":56,
   "outputs":[
    
   ],
   "metadata":{
    "datalore":{
     "node_id":"5CkNhxUPY93gldqbRjBRn5",
     "type":"CODE",
     "hide_input_from_viewers":true,
     "hide_output_from_viewers":true
    }
   }
  },
  {
   "cell_type":"code",
   "source":[
    "similarity.shape"
   ],
   "execution_count":57,
   "outputs":[
    {
     "data":{
      "text\/plain":[
       "(4806, 4806)"
      ]
     },
     "metadata":{
      
     },
     "output_type":"display_data"
    }
   ],
   "metadata":{
    "datalore":{
     "node_id":"hnScQVojaXua7wROjHMgzH",
     "type":"CODE",
     "hide_input_from_viewers":true,
     "hide_output_from_viewers":true
    }
   }
  },
  {
   "cell_type":"code",
   "source":[
    "similarity[1]"
   ],
   "execution_count":58,
   "outputs":[
    {
     "data":{
      "text\/html":[
       "<pre>array([0.08964215, 1.        , 0.0625    , ..., 0.02635231, 0.        ,\n",
       "       0.        ])<\/pre>"
      ]
     },
     "metadata":{
      
     },
     "output_type":"display_data"
    }
   ],
   "metadata":{
    "datalore":{
     "node_id":"vaEAREwot25yuBQ908LOmw",
     "type":"CODE",
     "hide_input_from_viewers":true,
     "hide_output_from_viewers":true
    }
   }
  },
  {
   "cell_type":"code",
   "source":[
    "def recommend(movie):\n",
    "    movie_index = new_df[new_df['title']== movie].index[0]\n",
    "    distances = similarity[movie_index]\n",
    "    movies_list = sorted(list(enumerate(distances)),reverse= True,key= lambda x:x[1])[1:6]\n",
    "\n",
    "\n",
    "    for i in movies_list:\n",
    "        print(new_df.iloc[i[0]].title)"
   ],
   "execution_count":72,
   "outputs":[
    
   ],
   "metadata":{
    "datalore":{
     "node_id":"Pa9R86s22xFBDGtkz3lVc4",
     "type":"CODE",
     "hide_input_from_viewers":true,
     "hide_output_from_viewers":true
    }
   }
  },
  {
   "cell_type":"code",
   "source":[
    "recommend(\"Batman Begins\")"
   ],
   "execution_count":74,
   "outputs":[
    {
     "name":"stdout",
     "text":[
      "The Dark Knight\n",
      "The Dark Knight Rises\n",
      "Batman\n",
      "Batman & Robin\n",
      "Batman\n"
     ],
     "output_type":"stream"
    }
   ],
   "metadata":{
    "datalore":{
     "node_id":"XxH8OssvzGTEQM35oksGxp",
     "type":"CODE",
     "hide_input_from_viewers":true,
     "hide_output_from_viewers":true
    }
   }
  },
  {
   "cell_type":"code",
   "source":[
    "import pickle "
   ],
   "execution_count":75,
   "outputs":[
    
   ],
   "metadata":{
    "datalore":{
     "node_id":"UxfpnfcHIOOm4RY0giWe78",
     "type":"CODE",
     "hide_input_from_viewers":true,
     "hide_output_from_viewers":true
    }
   }
  },
  {
   "cell_type":"code",
   "source":[
    "pickle.dump(new_df,open('movies.pkl','wb'))"
   ],
   "execution_count":77,
   "outputs":[
    
   ],
   "metadata":{
    "datalore":{
     "node_id":"aiMBABPll9aZMM8CF1jPhF",
     "type":"CODE",
     "hide_input_from_viewers":true,
     "hide_output_from_viewers":true
    }
   }
  },
  {
   "cell_type":"code",
   "source":[
    "pickle.dump(new_df.to_dict(),open('movies_dict.pkl','wb'))"
   ],
   "execution_count":79,
   "outputs":[
    
   ],
   "metadata":{
    "datalore":{
     "node_id":"vu5jNQeZeBRFlRK9PuL75U",
     "type":"CODE",
     "hide_input_from_viewers":true,
     "hide_output_from_viewers":true
    }
   }
  },
  {
   "cell_type":"code",
   "source":[
    "pickle.dump(similarity,open('similarity.pkl','wb'))"
   ],
   "execution_count":80,
   "outputs":[
    
   ],
   "metadata":{
    "datalore":{
     "node_id":"HxLVtG57kf7MVThqrXsOag",
     "type":"CODE",
     "hide_input_from_viewers":true,
     "hide_output_from_viewers":true
    }
   }
  },
  {
   "cell_type":"code",
   "source":[
    
   ],
   "execution_count":null,
   "outputs":[
    
   ],
   "metadata":{
    "datalore":{
     "node_id":"Ujo2gMujRKtQlMNX2i621r",
     "type":"CODE",
     "hide_input_from_viewers":true,
     "hide_output_from_viewers":true
    }
   }
  }
 ],
 "metadata":{
  "kernelspec":{
   "display_name":"Python",
   "language":"python",
   "name":"python"
  },
  "datalore":{
   "computation_mode":"JUPYTER",
   "package_manager":"pip",
   "base_environment":"default",
   "packages":[
    {
     "name":"nltk",
     "version":"3.8.1",
     "source":"PIP"
    }
   ],
   "report_row_ids":[
    
   ],
   "version":3
  }
 },
 "nbformat":4,
 "nbformat_minor":4
}